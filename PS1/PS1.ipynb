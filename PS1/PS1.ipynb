{
 "cells": [
  {
   "cell_type": "code",
   "execution_count": 2,
   "id": "081ba084-e7e6-43e5-889d-db34f4a276d1",
   "metadata": {},
   "outputs": [
    {
     "name": "stdin",
     "output_type": "stream",
     "text": [
      "please enter the value of a: 5\n",
      "please enter the value of b: 15\n",
      "please enter the value of c: 10\n"
     ]
    },
    {
     "name": "stdout",
     "output_type": "stream",
     "text": [
      "-135.0\n"
     ]
    }
   ],
   "source": [
    "a = float(input(\"please enter the value of a:\"))\n",
    "b = float(input(\"please enter the value of b:\"))\n",
    "c = float(input(\"please enter the value of c:\"))\n",
    "if (a > b > c):\n",
    "    x = a\n",
    "    y = b\n",
    "    z = c\n",
    "elif (a > c > b):\n",
    "    x = a\n",
    "    y = c\n",
    "    z = b\n",
    "elif (b > a > c):\n",
    "    x = a\n",
    "    y = c\n",
    "    z = b\n",
    "elif (c > a > b):\n",
    "    x = c\n",
    "    y = a\n",
    "    z = b\n",
    "elif (c > b > a):\n",
    "    x = c\n",
    "    y = b\n",
    "    z = a\n",
    "else:\n",
    "    x = c\n",
    "    y = a\n",
    "    z = b\n",
    "print(str(x+y-10*z))"
   ]
  },
  {
   "cell_type": "code",
   "execution_count": 3,
   "id": "8ad14b09-832f-45d5-9baf-4e84fbf4f95f",
   "metadata": {},
   "outputs": [
    {
     "name": "stdin",
     "output_type": "stream",
     "text": [
      "please enter the value of x: 9\n"
     ]
    },
    {
     "name": "stdout",
     "output_type": "stream",
     "text": [
      "25\n"
     ]
    }
   ],
   "source": [
    "value = int(input(\"please enter the value of x:\"))\n",
    "import math\n",
    "a = 0\n",
    "while value != 1:\n",
    "    a = a+2*value\n",
    "    value = math.ceil(value/3)\n",
    "print(a+1)"
   ]
  },
  {
   "cell_type": "code",
   "execution_count": 4,
   "id": "9dc0de57-1e63-4d5a-97ee-6ccbae5f0ed0",
   "metadata": {},
   "outputs": [
    {
     "name": "stdin",
     "output_type": "stream",
     "text": [
      "please enter the sum of values on each face: 45\n"
     ]
    },
    {
     "name": "stdout",
     "output_type": "stream",
     "text": [
      "831204\n"
     ]
    }
   ],
   "source": [
    "x = int(input(\"please enter the sum of values on each face:\"))\n",
    "def f(x):\n",
    "    if x < 10 or x > 60:\n",
    "        return 0\n",
    "    n = 10\n",
    "    faces = 6\n",
    "    dp = [[0]*(x+1)for _ in range(n+1)]\n",
    "    for j in range(1,faces+1):\n",
    "        dp[1][j] = 1\n",
    "    for i in range(2,n+1):\n",
    "        for j in range(1,x+1):\n",
    "            for k in range(1,faces+1):\n",
    "                if j - k >= 0:\n",
    "                    dp[i][j] = dp[i][j]+dp[i-1][j-k]\n",
    "    return dp[n][x]\n",
    "result = f(x)\n",
    "print(result)"
   ]
  },
  {
   "cell_type": "code",
   "execution_count": 5,
   "id": "4b92106a-acd2-4562-92a1-9ee993f57846",
   "metadata": {},
   "outputs": [
    {
     "name": "stdout",
     "output_type": "stream",
     "text": [
      "Number_of_ways: [1, 10, 55, 220, 715, 2002, 4995, 11340, 23760, 46420, 85228, 147940, 243925, 383470, 576565, 831204, 1151370, 1535040, 1972630, 2446300, 2930455, 3393610, 3801535, 4121260, 4325310, 4395456, 4325310, 4121260, 3801535, 3393610, 2930455, 2446300, 1972630, 1535040, 1151370, 831204, 576565, 383470, 243925, 147940, 85228, 46420, 23760, 11340, 4995, 2002, 715, 220, 55, 10, 1]\n",
      "The sum that yields maximum ways: 35\n"
     ]
    }
   ],
   "source": [
    "def f(x):\n",
    "    if x < 10 or x > 60:\n",
    "        return 0\n",
    "    n = 10\n",
    "    faces = 6\n",
    "    dp = [[0]*(x+1)for _ in range(n+1)]\n",
    "    for j in range(1,faces+1):\n",
    "        dp[1][j] = 1\n",
    "    for i in range(2,n+1):\n",
    "        for j in range(1,x+1):\n",
    "            for k in range(1,faces+1):\n",
    "                if j - k >= 0:\n",
    "                    dp[i][j] = dp[i][j]+dp[i-1][j-k]\n",
    "    return dp[n][x]\n",
    "Number_of_ways = [f(i) for i in range(10, 61)]\n",
    "max_ways = max(Number_of_ways)\n",
    "max_x = Number_of_ways.index(max_ways) + 10\n",
    "print(\"Number_of_ways:\", Number_of_ways)\n",
    "print(\"The sum that yields maximum ways:\", max_x)"
   ]
  },
  {
   "cell_type": "code",
   "execution_count": 15,
   "id": "038b9ce0-0ffb-482a-8070-fa1313ae5293",
   "metadata": {},
   "outputs": [
    {
     "name": "stdout",
     "output_type": "stream",
     "text": [
      "题目4.1测试:\n",
      "N=5: [1, 5, 4, 6, 7]\n",
      "N=8: [5, 0, 7, 4, 9, 3, 8, 2]\n",
      "N=10: [4, 2, 10, 0, 10, 1, 0, 1, 2, 6]\n"
     ]
    }
   ],
   "source": [
    "import random\n",
    "# 生成随机数组\n",
    "def Random_integer(N):\n",
    "    return [random.randint(0, 10) for _ in range(N)]\n",
    "# 测试题目\n",
    "print(\"题目4.1测试:\")\n",
    "print(\"N=5:\", Random_integer(5))\n",
    "print(\"N=8:\", Random_integer(8))\n",
    "print(\"N=10:\", Random_integer(10))"
   ]
  },
  {
   "cell_type": "code",
   "execution_count": 17,
   "id": "ebe879df-9571-4442-b17c-155c363aa396",
   "metadata": {},
   "outputs": [
    {
     "name": "stdout",
     "output_type": "stream",
     "text": [
      "题目4.2测试:\n",
      "数组 [1, 2, 3] 的所有子集平均值总和: 14.0\n"
     ]
    }
   ],
   "source": [
    "# 计算所有子集平均值的总和\n",
    "def Sum_averages(arr):\n",
    "    n = len(arr)\n",
    "    total_sum = 0\n",
    "    \n",
    "    # 遍历所有可能的子集（不包括空集）\n",
    "    for i in range(1, 1 << n):  # 从1开始，跳过空集\n",
    "        subset = []\n",
    "        # 检查每一位，决定哪些元素在子集中\n",
    "        for j in range(n):\n",
    "            if i & (1 << j):  # 如果第j位是1，则包含该元素\n",
    "                subset.append(arr[j])\n",
    "        \n",
    "        # 计算当前子集的平均值并累加\n",
    "        avg = sum(subset) / len(subset)\n",
    "        total_sum += avg\n",
    "    \n",
    "    return total_sum\n",
    "\n",
    "# 测试题目\n",
    "print(\"题目4.2测试:\")\n",
    "test_arr = [1, 2, 3]\n",
    "result = Sum_averages(test_arr)\n",
    "print(f\"数组 {test_arr} 的所有子集平均值总和: {result}\")"
   ]
  },
  {
   "cell_type": "code",
   "execution_count": 22,
   "id": "7f210349-c090-43ee-a7f6-566f8cb39b81",
   "metadata": {},
   "outputs": [
    {
     "name": "stdout",
     "output_type": "stream",
     "text": [
      "N=1: 9.00\n",
      "N=2: 13.50\n",
      "N=3: 16.33\n",
      "N=4: 82.50\n",
      "N=5: 136.40\n",
      "N=6: 357.00\n",
      "N=7: 362.86\n",
      "N=8: 1211.25\n",
      "N=9: 2384.67\n",
      "N=10: 5217.30\n",
      "N=11: 9118.45\n",
      "N=12: 17403.75\n",
      "N=13: 38434.69\n",
      "N=14: 81915.00\n",
      "N=15: 126699.07\n",
      "N=16: 380922.19\n",
      "N=17: 616804.71\n",
      "N=18: 1019445.00\n",
      "N=19: 2869781.47\n",
      "N=20: 4299157.50\n"
     ]
    },
    {
     "data": {
      "image/png": "[encoded data removed]",
      "text/plain": [
       "<Figure size 1000x600 with 1 Axes>"
      ]
     },
     "metadata": {},
     "output_type": "display_data"
    },
    {
     "name": "stdout",
     "output_type": "stream",
     "text": [
      "观察：曲线呈指数增长，因为子集数量是2^N\n"
     ]
    }
   ],
   "source": [
    "import random\n",
    "import matplotlib.pyplot as plt\n",
    "\n",
    "# 先定义前两个函数\n",
    "def Random_integer(N):\n",
    "    return [random.randint(0, 10) for _ in range(N)]\n",
    "\n",
    "def Sum_averages(arr):\n",
    "    n = len(arr)\n",
    "    total_sum = 0\n",
    "    for i in range(1, 1 << n):\n",
    "        subset = []\n",
    "        for j in range(n):\n",
    "            if i & (1 << j):\n",
    "                subset.append(arr[j])\n",
    "        avg = sum(subset) / len(subset)\n",
    "        total_sum += avg\n",
    "    return total_sum\n",
    "\n",
    "# 4.3 测试和绘图\n",
    "Total_sum_averages = []\n",
    "\n",
    "for N in range(1, 21):  # 计算1到20，避免太慢\n",
    "    arr = Random_integer(N)\n",
    "    result = Sum_averages(arr)\n",
    "    Total_sum_averages.append(result)\n",
    "    print(f\"N={N}: {result:.2f}\")\n",
    "\n",
    "# 绘图\n",
    "plt.figure(figsize=(10, 6))\n",
    "plt.plot(range(1, 21), Total_sum_averages, 'bo-', linewidth=2)\n",
    "plt.xlabel('Array Size (N)')\n",
    "plt.ylabel('Sum of Averages')\n",
    "plt.title('Sum of Averages of All Subsets vs Array Size')\n",
    "plt.grid(True, alpha=0.3)\n",
    "plt.show()\n",
    "\n",
    "print(\"观察：曲线呈指数增长，因为子集数量是2^N\")"
   ]
  },
  {
   "cell_type": "code",
   "execution_count": 32,
   "id": "23fb790c-dc2c-4641-9a32-94e59008fd50",
   "metadata": {},
   "outputs": [
    {
     "name": "stdout",
     "output_type": "stream",
     "text": [
      "测试小例子:\n",
      "测试矩阵:\n",
      "[1, 1, 1]\n",
      "[1, 0, 1]\n",
      "[1, 1, 1]\n",
      "路径数: 2\n",
      "\n",
      "==================================================\n",
      "\n",
      "开始实验: N=10, M=8, 运行1000次\n",
      "已完成 100 次运行，当前平均路径数: 0.09\n",
      "已完成 200 次运行，当前平均路径数: 0.21\n",
      "已完成 300 次运行，当前平均路径数: 0.28\n",
      "已完成 400 次运行，当前平均路径数: 0.21\n",
      "已完成 500 次运行，当前平均路径数: 0.18\n",
      "已完成 600 次运行，当前平均路径数: 0.18\n",
      "已完成 700 次运行，当前平均路径数: 0.18\n",
      "已完成 800 次运行，当前平均路径数: 0.18\n",
      "已完成 900 次运行，当前平均路径数: 0.17\n",
      "已完成 1000 次运行，当前平均路径数: 0.21\n",
      "\n",
      "最终结果:\n",
      "1000次运行的平均路径数: 0.21\n"
     ]
    }
   ],
   "source": [
    "import random\n",
    "\n",
    "# 5.1 创建矩阵\n",
    "def create_matrix(N, M):\n",
    "    \"\"\"\n",
    "    创建N行M列的矩阵\n",
    "    左上角和右下角固定为1，其他位置随机为0或1\n",
    "    \"\"\"\n",
    "    # 创建全0矩阵\n",
    "    matrix = [[0 for _ in range(M)] for _ in range(N)]\n",
    "    \n",
    "    # 设置左上角和右下角为1\n",
    "    matrix[0][0] = 1\n",
    "    matrix[N-1][M-1] = 1\n",
    "    \n",
    "    # 随机填充其他位置\n",
    "    for i in range(N):\n",
    "        for j in range(M):\n",
    "            # 跳过左上角和右下角\n",
    "            if (i == 0 and j == 0) or (i == N-1 and j == M-1):\n",
    "                continue\n",
    "            matrix[i][j] = random.randint(0, 1)\n",
    "    \n",
    "    return matrix\n",
    "\n",
    "# 5.2 计算路径数\n",
    "def Count_path(matrix):\n",
    "    \"\"\"\n",
    "    计算从左上角到右下角的路径总数\n",
    "    只能向右或向下移动，0表示障碍物\n",
    "    \"\"\"\n",
    "    N = len(matrix)\n",
    "    M = len(matrix[0])\n",
    "    \n",
    "    # 创建DP表，dp[i][j]表示到达(i,j)的路径数\n",
    "    dp = [[0 for _ in range(M)] for _ in range(N)]\n",
    "    \n",
    "    # 初始化起点\n",
    "    if matrix[0][0] == 1:\n",
    "        dp[0][0] = 1\n",
    "    else:\n",
    "        return 0  # 如果起点就是障碍，没有路径\n",
    "    \n",
    "    # 填充第一行：只能从左边来\n",
    "    for j in range(1, M):\n",
    "        if matrix[0][j] == 1:\n",
    "            dp[0][j] = dp[0][j-1]  # 只能从左边来\n",
    "        else:\n",
    "            dp[0][j] = 0  # 障碍物，无法到达\n",
    "    \n",
    "    # 填充第一列：只能从上面来\n",
    "    for i in range(1, N):\n",
    "        if matrix[i][0] == 1:\n",
    "            dp[i][0] = dp[i-1][0]  # 只能从上面来\n",
    "        else:\n",
    "            dp[i][0] = 0  # 障碍物，无法到达\n",
    "    \n",
    "    # 填充其他位置\n",
    "    for i in range(1, N):\n",
    "        for j in range(1, M):\n",
    "            if matrix[i][j] == 1:\n",
    "                # 可以从上面或左边来\n",
    "                dp[i][j] = dp[i-1][j] + dp[i][j-1]\n",
    "            else:\n",
    "                dp[i][j] = 0  # 障碍物，无法到达\n",
    "    \n",
    "    return dp[N-1][M-1]\n",
    "\n",
    "# 5.3 运行1000次并计算平均值\n",
    "def run_experiment():\n",
    "    N = 10\n",
    "    M = 8\n",
    "    total_paths = 0\n",
    "    num_runs = 1000\n",
    "    \n",
    "    print(f\"开始实验: N={N}, M={M}, 运行{num_runs}次\")\n",
    "    \n",
    "    for run in range(num_runs):\n",
    "        # 创建新矩阵\n",
    "        matrix = create_matrix(N, M)\n",
    "        \n",
    "        # 计算路径数\n",
    "        paths = Count_path(matrix)\n",
    "        total_paths += paths\n",
    "        \n",
    "        # 每100次显示一次进度\n",
    "        if (run + 1) % 100 == 0:\n",
    "            print(f\"已完成 {run + 1} 次运行，当前平均路径数: {total_paths / (run + 1):.2f}\")\n",
    "    \n",
    "    mean_paths = total_paths / num_runs\n",
    "    print(f\"\\n最终结果:\")\n",
    "    print(f\"1000次运行的平均路径数: {mean_paths:.2f}\")\n",
    "    \n",
    "    return mean_paths\n",
    "\n",
    "# 测试小例子\n",
    "def test_small_example():\n",
    "    print(\"测试小例子:\")\n",
    "    # 创建一个简单的3x3矩阵测试\n",
    "    test_matrix = [\n",
    "        [1, 1, 1],\n",
    "        [1, 0, 1],\n",
    "        [1, 1, 1]\n",
    "    ]\n",
    "    \n",
    "    print(\"测试矩阵:\")\n",
    "    for row in test_matrix:\n",
    "        print(row)\n",
    "    \n",
    "    paths = Count_path(test_matrix)\n",
    "    print(f\"路径数: {paths}\")\n",
    "\n",
    "# 主程序\n",
    "if __name__ == \"__main__\":\n",
    "    # 运行测试例子\n",
    "    test_small_example()\n",
    "    print(\"\\n\" + \"=\"*50 + \"\\n\")\n",
    "    \n",
    "    # 运行主要实验\n",
    "    mean_result = run_experiment()"
   ]
  }
 ],
 "metadata": {
  "kernelspec": {
   "display_name": "Python 3 (ipykernel)",
   "language": "python",
   "name": "python3"
  },
  "language_info": {
   "codemirror_mode": {
    "name": "ipython",
    "version": 3
   },
   "file_extension": ".py",
   "mimetype": "text/x-python",
   "name": "python",
   "nbconvert_exporter": "python",
   "pygments_lexer": "ipython3",
   "version": "3.13.5"
  }
 },
 "nbformat": 4,
 "nbformat_minor": 5
}
